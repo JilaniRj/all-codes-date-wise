{
 "cells": [
  {
   "cell_type": "code",
   "execution_count": null,
   "id": "36437c8b-995c-4d4f-ab6a-b919dffb2105",
   "metadata": {},
   "outputs": [],
   "source": [
    "class Equipment:\n",
    "    def __init__(self, name, type, capacity, power, section, section_type, depth, length, width, utilization, mtbf, mttr):\n",
    "        self.name = name\n",
    "        self.type = type\n",
    "        self.capacity = capacity\n",
    "        self.power = power\n",
    "        self.section = section\n",
    "        self.section_type = section_type\n",
    "        self.depth = depth\n",
    "        self.length = length\n",
    "        self.width = width\n",
    "        self.utilization = utilization\n",
    "        self.mtbf = mtbf\n",
    "        self.mttr = mttr\n",
    "class Environment:\n",
    "    def __init__(self, name, type, capacity, power, section, section_type, depth, length, width, equipment, utilization, mtbf, mttr):\n",
    "        self.name = name\n",
    "        self.type = type\n",
    "        self.capacity = capacity\n",
    "        self.power = power\n",
    "        self.section = section\n",
    "        self.section_type = section_type\n",
    "        self.depth = depth\n",
    "        self.length = length\n",
    "        self.width = width\n",
    "        self.equipment = equipment\n",
    "        self.utilization = utilization\n",
    "        self.mtbf = mtbf\n",
    "        self.mttr = mttr\n",
    "\n",
    "\n",
    "\n"
   ]
  }
 ],
 "metadata": {
  "kernelspec": {
   "display_name": "Python 3 (ipykernel)",
   "language": "python",
   "name": "python3"
  },
  "language_info": {
   "codemirror_mode": {
    "name": "ipython",
    "version": 3
   },
   "file_extension": ".py",
   "mimetype": "text/x-python",
   "name": "python",
   "nbconvert_exporter": "python",
   "pygments_lexer": "ipython3",
   "version": "3.12.0"
  }
 },
 "nbformat": 4,
 "nbformat_minor": 5
}
