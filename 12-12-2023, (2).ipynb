{
 "cells": [
  {
   "cell_type": "code",
   "execution_count": null,
   "id": "79e9c88a-b299-4b73-b132-ca8ea4ac0d4a",
   "metadata": {},
   "outputs": [],
   "source": [
    "#Operations Project-To CREATE or BUILD Simulation Parameter Optimization Script: > \"A Python script in the Git repository that iterates through different combinations of equipment\n",
    "       "
   ]
  },
  {
   "cell_type": "code",
   "execution_count": 1,
   "id": "1574731b-2a77-4715-b177-82422e868632",
   "metadata": {},
   "outputs": [
    {
     "name": "stdin",
     "output_type": "stream",
     "text": [
      "enter distance =  80\n",
      "enter consumedfuel =  2\n"
     ]
    },
    {
     "name": "stdout",
     "output_type": "stream",
     "text": [
      "distance: 80 m\n",
      "consumedfuel : 2 l\n",
      "fuel efficiency: 40.0 m/l\n"
     ]
    }
   ],
   "source": [
    "class SimulationParameters:\n",
    "    def __init__(self, distance, consumedfuel):\n",
    "        self.distance = distance\n",
    "        self.consumedfuel = consumedfuel\n",
    "\n",
    "    def display_parameters(self):\n",
    "        print(f\"distance: {self.distance} m\")\n",
    "        print(f\"consumedfuel : {self.consumedfuel} l\")\n",
    "\n",
    "\n",
    "def run_simulation(parameters):\n",
    "    # Your simulation logic goes here using the parameters\n",
    "    fuelefficiency = parameters.distance / parameters.consumedfuel\n",
    "    print(f\"fuel efficiency: {fuelefficiency} m/l\")\n",
    "\n",
    "\n",
    "# Example usage:\n",
    "if __name__ == \"__main__\":\n",
    "    # Set simulation parameters\n",
    "    distance = int(input(\"enter distance = \")) # m\n",
    "    time = int(input(\"enter consumedfuel = \")) # l\n",
    "    \n",
    "\n",
    "    # Create simulation parameters object\n",
    "    simulation_params = SimulationParameters( distance, time)\n",
    "\n",
    "    # Display simulation parameters\n",
    "    simulation_params.display_parameters()\n",
    "\n",
    "    # Run the simulation\n",
    "    run_simulation(simulation_params)"
   ]
  },
  {
   "cell_type": "code",
   "execution_count": null,
   "id": "fb390e89-45a1-41b7-b780-f0401ba147d3",
   "metadata": {},
   "outputs": [],
   "source": [
    "#Performance Dashboard:- #NOTE: Develop a web-based dashboard using Flask or Dash in the Git repository that visualizes\n",
    "#real-time and historical equipment efficiency metrics.#NOTE: This allows stakeholders to monitor the impact of parameter changes."
   ]
  },
  {
   "cell_type": "code",
   "execution_count": 1,
   "id": "60a7fceb-f18f-4755-af88-bdd10888f740",
   "metadata": {},
   "outputs": [
    {
     "data": {
      "text/html": [
       "\n",
       "        <iframe\n",
       "            width=\"100%\"\n",
       "            height=\"650\"\n",
       "            src=\"http://127.0.0.1:8051/\"\n",
       "            frameborder=\"0\"\n",
       "            allowfullscreen\n",
       "            \n",
       "        ></iframe>\n",
       "        "
      ],
      "text/plain": [
       "<IPython.lib.display.IFrame at 0x1590e4cd1c0>"
      ]
     },
     "metadata": {},
     "output_type": "display_data"
    }
   ],
   "source": [
    "# Import necessary libraries\n",
    "import dash\n",
    "from dash import dcc, html\n",
    "from dash.dependencies import Input, Output\n",
    "import pandas as pd\n",
    "import plotly.express as px\n",
    "import random\n",
    "from datetime import datetime, timedelta\n",
    "# Sample data (replace this with your real-time and historical data)\n",
    "data = pd.DataFrame({\n",
    "    'Timestamp': [datetime.now() - timedelta(minutes=i) for i in range(100)],\n",
    "    'Equipment Efficiency': [random.uniform(80, 95) for _ in range(100)]\n",
    "})\n",
    "# Initialize the Dash app\n",
    "app = dash.Dash(__name__)\n",
    "# Define the layout of the dashboard\n",
    "app.layout = html.Div(children=[\n",
    "    html.H1(children='Equipment Efficiency Dashboard'),\n",
    "    # Real-time chart\n",
    "    dcc.Graph(\n",
    "        id='real-time-chart',\n",
    "        config={'displayModeBar': False}\n",
    "    ),\n",
    "    # Historical chart\n",
    "    dcc.Graph(\n",
    "        id='historical-chart',\n",
    "        config={'displayModeBar': False}\n",
    "    ),\n",
    "    # Interval component for updating charts every 10 seconds\n",
    "    dcc.Interval(\n",
    "        id='interval-component',\n",
    "        interval=10 * 1000,  # in milliseconds, update every 10 seconds\n",
    "        n_intervals=0\n",
    "    )\n",
    "])\n",
    "# Define callback to update real-time chart\n",
    "@app.callback(\n",
    "    Output('real-time-chart', 'figure'),\n",
    "    [Input('interval-component', 'n_intervals')]\n",
    ")\n",
    "def update_real_time_chart(n):\n",
    "    # Add real-time data update logic here\n",
    "    # For example, you can fetch new data from a source and update the chart\n",
    "    real_time_data = pd.DataFrame({\n",
    "        'Timestamp': [datetime.now()],\n",
    "        'Equipment Efficiency': [random.uniform(80, 95)]\n",
    "    })\n",
    "    fig = px.line(real_time_data, x='Timestamp', y='Equipment Efficiency', title='Real-time Efficiency')\n",
    "    return fig\n",
    "# Define callback to update historical chart\n",
    "@app.callback(\n",
    "    Output('historical-chart', 'figure'),\n",
    "    [Input('interval-component', 'n_intervals')]\n",
    ")\n",
    "def update_historical_chart(n):\n",
    "    # Add historical data update logic here\n",
    "    # For example, you can fetch historical data from a database and update the chart\n",
    "    fig = px.line(data, x='Timestamp', y='Equipment Efficiency', title='Historical Efficiency')\n",
    "    return fig\n",
    "# Run the app with a different port (8051 in this example)\n",
    "if __name__ == '__main__':\n",
    "    app.run_server(debug=True, port=8051)\n"
   ]
  },
  {
   "cell_type": "code",
   "execution_count": 3,
   "id": "6d5de268-6cf1-4fb4-abd6-620681987f05",
   "metadata": {},
   "outputs": [
    {
     "data": {
      "text/html": [
       "\n",
       "        <iframe\n",
       "            width=\"100%\"\n",
       "            height=\"650\"\n",
       "            src=\"http://127.0.0.1:8052/\"\n",
       "            frameborder=\"0\"\n",
       "            allowfullscreen\n",
       "            \n",
       "        ></iframe>\n",
       "        "
      ],
      "text/plain": [
       "<IPython.lib.display.IFrame at 0x18a7332cc50>"
      ]
     },
     "metadata": {},
     "output_type": "display_data"
    }
   ],
   "source": [
    "# Import necessary libraries\n",
    "import dash\n",
    "from dash import dcc, html\n",
    "from dash.dependencies import Input, Output\n",
    "import pandas as pd\n",
    "import plotly.express as px\n",
    "from datetime import datetime, timedelta\n",
    "# Replace the sample data with your CSV file\n",
    "csv_file_path = 'M12.csv'\n",
    "data = pd.read_csv(csv_file_path, parse_dates=['Date'])\n",
    "# Initialize the Dash app\n",
    "app = dash.Dash(__name__)\n",
    "# Define the layout of the dashboard\n",
    "app.layout = html.Div(children=[\n",
    "    html.H1(children='Mining Dashboard'),\n",
    "    # Historical chart\n",
    "    dcc.Graph(\n",
    "        id='historical-chart',\n",
    "        config={'displayModeBar': False}\n",
    "    ),\n",
    "    # Interval component for updating charts every 10 seconds\n",
    "    dcc.Interval(\n",
    "        id='interval-component',\n",
    "        interval=10 * 1000,  # in milliseconds, update every 10 seconds\n",
    "        n_intervals=0\n",
    "    )\n",
    "])\n",
    "# Define callback to update historical chart\n",
    "@app.callback(\n",
    "    Output('historical-chart', 'figure'),\n",
    "    [Input('interval-component', 'n_intervals')]\n",
    ")\n",
    "def update_historical_chart(n):\n",
    "    # Use the 'data' DataFrame you loaded from the CSV\n",
    "    fig = px.line(data, x='Date', y='Actual_TPH', title='Historical TPH Data')\n",
    "    return fig\n",
    "# Run the app with a different port (8051 in this example)\n",
    "if __name__ == '__main__':\n",
    "    app.run_server(debug=True, port=8052)"
   ]
  },
  {
   "cell_type": "code",
   "execution_count": null,
   "id": "afd46aa8-448b-4877-a417-da417a0dfb92",
   "metadata": {},
   "outputs": [],
   "source": [
    "#dashboard of equipment efficiency"
   ]
  },
  {
   "cell_type": "code",
   "execution_count": 1,
   "id": "d480c217-5016-47a0-9650-5837887c5d29",
   "metadata": {},
   "outputs": [
    {
     "data": {
      "text/plain": [
       "<BarContainer object of 6 artists>"
      ]
     },
     "execution_count": 1,
     "metadata": {},
     "output_type": "execute_result"
    },
    {
     "data": {
      "image/png": "[encoded data removed]",
      "text/plain": [
       "<Figure size 640x480 with 1 Axes>"
      ]
     },
     "metadata": {},
     "output_type": "display_data"
    }
   ],
   "source": [
    "import pandas as pd\n",
    "from matplotlib import pyplot as plt\n",
    "plt.style.use('classic')\n",
    "df = pd.read_csv('M13.csv')\n",
    "x = df['Equipment']\n",
    "y = df['Hours_Worked']\n",
    "plt.xlabel('Equipment ',fontsize=18)\n",
    "plt.ylabel('Hours_Worked',fontsize=16)\n",
    "plt.bar(x,y)"
   ]
  },
  {
   "cell_type": "code",
   "execution_count": 2,
   "id": "c63a8700-4ec5-4fb9-b700-0e27844eb0bb",
   "metadata": {},
   "outputs": [
    {
     "data": {
      "text/plain": [
       "<BarContainer object of 2 artists>"
      ]
     },
     "execution_count": 2,
     "metadata": {},
     "output_type": "execute_result"
    },
    {
     "data": {
      "image/png": "[encoded data removed]",
      "text/plain": [
       "<Figure size 640x480 with 1 Axes>"
      ]
     },
     "metadata": {},
     "output_type": "display_data"
    }
   ],
   "source": [
    "import pandas as pd\n",
    "from matplotlib import pyplot as plt\n",
    "plt.style.use('classic')\n",
    "df = pd.read_csv('M2.csv')\n",
    "x = df['Equipment']\n",
    "y = df['AverageGrade']\n",
    "plt.xlabel('Equipment',fontsize=18)\n",
    "plt.ylabel('AverageGrades',fontsize=16)\n",
    "plt.bar(x,y)\n"
   ]
  },
  {
   "cell_type": "code",
   "execution_count": 3,
   "id": "0a4092fa-b355-4cfb-9164-6c52c9ca40bd",
   "metadata": {},
   "outputs": [
    {
     "data": {
      "text/plain": [
       "<BarContainer object of 2 artists>"
      ]
     },
     "execution_count": 3,
     "metadata": {},
     "output_type": "execute_result"
    },
    {
     "data": {
      "image/png": "[encoded data removed]",
      "text/plain": [
       "<Figure size 640x480 with 1 Axes>"
      ]
     },
     "metadata": {},
     "output_type": "display_data"
    }
   ],
   "source": [
    "import pandas as pd\n",
    "from matplotlib import pyplot as plt\n",
    "plt.style.use('classic')\n",
    "df = pd.read_csv('M3.csv')\n",
    "x = df['MaterialMoved']\n",
    "y = df['Equipment']\n",
    "plt.xlabel('MaterialMoved',fontsize=18)\n",
    "plt.ylabel('Equipment',fontsize=16)\n",
    "plt.bar(x,y)"
   ]
  },
  {
   "cell_type": "code",
   "execution_count": 4,
   "id": "b9ee335a-cfc4-4dde-bb47-59d63f87f3fe",
   "metadata": {},
   "outputs": [
    {
     "data": {
      "text/plain": [
       "<BarContainer object of 2 artists>"
      ]
     },
     "execution_count": 4,
     "metadata": {},
     "output_type": "execute_result"
    },
    {
     "data": {
      "image/png": "[encoded data removed]",
      "text/plain": [
       "<Figure size 640x480 with 1 Axes>"
      ]
     },
     "metadata": {},
     "output_type": "display_data"
    }
   ],
   "source": [
    "import pandas as pd\n",
    "from matplotlib import pyplot as plt\n",
    "plt.style.use('classic')\n",
    "df = pd.read_csv('M.csv')\n",
    "x = df['WorkHours']\n",
    "y = df['Equipment']\n",
    "plt.xlabel('WorkHours ',fontsize=18)\n",
    "plt.ylabel('Equipment',fontsize=16)\n",
    "plt.bar(x,y)"
   ]
  },
  {
   "cell_type": "code",
   "execution_count": 5,
   "id": "bc37af1d-7abd-436f-be38-0800bc138c5b",
   "metadata": {},
   "outputs": [
    {
     "data": {
      "text/plain": [
       "<BarContainer object of 2 artists>"
      ]
     },
     "execution_count": 5,
     "metadata": {},
     "output_type": "execute_result"
    },
    {
     "data": {
      "image/png": "[encoded data removed]",
      "text/plain": [
       "<Figure size 640x480 with 1 Axes>"
      ]
     },
     "metadata": {},
     "output_type": "display_data"
    }
   ],
   "source": [
    "import pandas as pd\n",
    "from matplotlib import pyplot as plt\n",
    "plt.style.use('classic')\n",
    "df = pd.read_csv('M10.csv')\n",
    "x = df['EquipmentCategory']\n",
    "y = df['BreakdownHours']\n",
    "plt.xlabel('EquipmentCategory ',fontsize=18)\n",
    "plt.ylabel('BreakdownHours',fontsize=16)\n",
    "plt.bar(x,y)"
   ]
  },
  {
   "cell_type": "code",
   "execution_count": 6,
   "id": "84d3263a-ed23-4f55-a523-b4b24239dc14",
   "metadata": {},
   "outputs": [
    {
     "data": {
      "text/plain": [
       "<BarContainer object of 2 artists>"
      ]
     },
     "execution_count": 6,
     "metadata": {},
     "output_type": "execute_result"
    },
    {
     "data": {
      "image/png": "[encoded data removed]",
      "text/plain": [
       "<Figure size 640x480 with 1 Axes>"
      ]
     },
     "metadata": {},
     "output_type": "display_data"
    }
   ],
   "source": [
    "import pandas as pd\n",
    "from matplotlib import pyplot as plt\n",
    "plt.style.use('bmh')\n",
    "df = pd.read_csv('M11.csv')\n",
    "x = df['TotalWeightMaterial Moved']\n",
    "y = df['HeavyEquipment']\n",
    "plt.xlabel('TotalWeightMaterial Moved ',fontsize=18)\n",
    "plt.ylabel('HeavyEquipment',fontsize=16)\n",
    "plt.bar(x,y)"
   ]
  },
  {
   "cell_type": "code",
   "execution_count": null,
   "id": "01139d48-0e67-48d8-a3e7-11ce5ca6d9db",
   "metadata": {},
   "outputs": [],
   "source": [
    "#Resource Allocation NOTE: \"Python script in the Git repository that implements an algorithm for optimal resource allocation among different mining equipment types.his task considers factors such asequipment capabilities, terrain conditions, and resource distribution."
   ]
  },
  {
   "cell_type": "code",
   "execution_count": 7,
   "id": "c6301019-3228-4488-b5b1-3b68539b1b3d",
   "metadata": {},
   "outputs": [
    {
     "name": "stdout",
     "output_type": "stream",
     "text": [
      "Scenario: Extraction Rate 0.947, EquipmentStrategy shovel1, MiningArea Miningarea_1 - Productivity: 0.38194717537727857\n",
      "Scenario: Extraction Rate 0.947, EquipmentStrategy shovel1, MiningArea Miningarea_2 - Productivity: 0.4110389363297692\n",
      "Scenario: Extraction Rate 0.947, EquipmentStrategy truck1, MiningArea Miningarea_1 - Productivity: 0.4582907722378074\n",
      "Scenario: Extraction Rate 0.947, EquipmentStrategy truck1, MiningArea Miningarea_2 - Productivity: 0.3333709652131035\n",
      "Scenario: Extraction Rate 0.947, EquipmentStrategy shovel1, MiningArea Miningarea_1 - Productivity: 0.4515949635117807\n",
      "Scenario: Extraction Rate 0.947, EquipmentStrategy shovel1, MiningArea Miningarea_2 - Productivity: 0.41001956544122864\n",
      "Scenario: Extraction Rate 0.906, EquipmentStrategy shovel1, MiningArea Miningarea_1 - Productivity: 0.3926939841298063\n",
      "Scenario: Extraction Rate 0.906, EquipmentStrategy shovel1, MiningArea Miningarea_2 - Productivity: 0.2861402314864997\n",
      "Scenario: Extraction Rate 0.906, EquipmentStrategy truck1, MiningArea Miningarea_1 - Productivity: 0.3407931857461802\n",
      "Scenario: Extraction Rate 0.906, EquipmentStrategy truck1, MiningArea Miningarea_2 - Productivity: 0.3262116513114571\n",
      "Scenario: Extraction Rate 0.906, EquipmentStrategy shovel1, MiningArea Miningarea_1 - Productivity: 0.39750782821566494\n",
      "Scenario: Extraction Rate 0.906, EquipmentStrategy shovel1, MiningArea Miningarea_2 - Productivity: 0.3029502301616203\n",
      "Scenario: Extraction Rate 0.842, EquipmentStrategy shovel1, MiningArea Miningarea_1 - Productivity: 0.2698506892899281\n",
      "Scenario: Extraction Rate 0.842, EquipmentStrategy shovel1, MiningArea Miningarea_2 - Productivity: 0.2996517630894046\n",
      "Scenario: Extraction Rate 0.842, EquipmentStrategy truck1, MiningArea Miningarea_1 - Productivity: 0.27430475798266796\n",
      "Scenario: Extraction Rate 0.842, EquipmentStrategy truck1, MiningArea Miningarea_2 - Productivity: 0.3403629047035717\n",
      "Scenario: Extraction Rate 0.842, EquipmentStrategy shovel1, MiningArea Miningarea_1 - Productivity: 0.25942285480787713\n",
      "Scenario: Extraction Rate 0.842, EquipmentStrategy shovel1, MiningArea Miningarea_2 - Productivity: 0.3987697898822274\n"
     ]
    }
   ],
   "source": [
    "# simulation_script.py\n",
    "import numpy as np\n",
    "def simulate_extraction(extraction_rate, equipment_strategy, resource_distribution):\n",
    "    # Implement your simulation logic here\n",
    "    # Use extraction_rate, deployment_strategy, and resource_distribution parameters\n",
    "    # Example: Simulate extraction and calculate productivity\n",
    "    simulated_productivity = np.random.uniform(0.3,0.5 ) * extraction_rate\n",
    "    return simulated_productivity\n",
    "def main():\n",
    "    # Define different scenarios\n",
    "    extraction_rates = [0.947, 0.906, 0.842]\n",
    "    Equipment_strategies = ['shovel1', 'truck1', 'shovel1']\n",
    "    resource_distributions = {'Miningarea_1': [0.3, 0.5, 0.2], 'Miningarea_2': [0.2, 0.2, 0.6]}\n",
    "    # Iterate through scenarios\n",
    "    for rate in extraction_rates:\n",
    "        for strategy in Equipment_strategies:\n",
    "            for area, distribution in resource_distributions.items():\n",
    "                productivity = simulate_extraction(rate, strategy, distribution)\n",
    "                print(f\"Scenario: Extraction Rate {rate}, EquipmentStrategy {strategy}, MiningArea {area} - Productivity: {productivity}\")\n",
    "if __name__ == \"__main__\":\n",
    "    main()"
   ]
  },
  {
   "cell_type": "code",
   "execution_count": null,
   "id": "1193a765-63e5-4da9-9866-6ba711805ffb",
   "metadata": {},
   "outputs": [],
   "source": [
    "#To Increase Production Rates : \n",
    "#NOTE:  Maximize the production ratesTo enhance Production Rate Simulation Script,\n",
    "#NOTE: A Python script in the Git repository that simulates different extraction scenarios,such as adjusting extraction rates, equipment deployment strategies, and resource distribution,to identify the most productive approach."
   ]
  },
  {
   "cell_type": "code",
   "execution_count": 8,
   "id": "a687483c-d9bf-4ac0-a6a5-3ced1cbc9a02",
   "metadata": {},
   "outputs": [
    {
     "name": "stdout",
     "output_type": "stream",
     "text": [
      "Max Production Rate: 162.0\n",
      "Optimal Parameters:\n",
      "Extraction Rate: 150\n",
      "Equipment Strategy: 1.2\n",
      "Resource Distribution: 0.9\n"
     ]
    }
   ],
   "source": [
    "import random\n",
    "\n",
    "class ProductionSimulation:\n",
    "    def __init__(self, extraction_rate, equipment_strategy, resource_distribution):\n",
    "        self.extraction_rate = extraction_rate\n",
    "        self.equipment_strategy = equipment_strategy\n",
    "        self.resource_distribution = resource_distribution\n",
    "\n",
    "    def run_simulation(self):\n",
    "        # Replace this with your actual simulation logic\n",
    "        # For simplicity, we'll use a random function as a placeholder\n",
    "        production_rate = (\n",
    "            self.extraction_rate * self.equipment_strategy * self.resource_distribution\n",
    "        )\n",
    "        return production_rate\n",
    "\n",
    "def maximize_production_rate_simulation():\n",
    "    # Define ranges for parameters\n",
    "    extraction_rates = [50, 100, 150]\n",
    "    equipment_strategies = [0.8, 1.0, 1.2]\n",
    "    resource_distributions = [0.5, 0.7, 0.9]\n",
    "\n",
    "    best_production_rate = 0\n",
    "    best_parameters = {}\n",
    "\n",
    "    for extraction_rate in extraction_rates:\n",
    "        for equipment_strategy in equipment_strategies:\n",
    "            for resource_distribution in resource_distributions:\n",
    "                simulation = ProductionSimulation(\n",
    "                    extraction_rate, equipment_strategy, resource_distribution\n",
    "                )\n",
    "                current_production_rate = simulation.run_simulation()\n",
    "\n",
    "                if current_production_rate > best_production_rate:\n",
    "                    best_production_rate = current_production_rate\n",
    "                    best_parameters = {\n",
    "                        \"Extraction Rate\": extraction_rate,\n",
    "                        \"Equipment Strategy\": equipment_strategy,\n",
    "                        \"Resource Distribution\": resource_distribution,\n",
    "                    }\n",
    "\n",
    "    return best_production_rate, best_parameters\n",
    "\n",
    "# Example usage\n",
    "max_production_rate, optimal_parameters = maximize_production_rate_simulation()\n",
    "print(f\"Max Production Rate: {max_production_rate}\")\n",
    "print(\"Optimal Parameters:\")\n",
    "for key, value in optimal_parameters.items():\n",
    "    print(f\"{key}: {value}\")"
   ]
  },
  {
   "cell_type": "code",
   "execution_count": 1,
   "id": "ec545b19-fd17-4cb9-80fe-b0221f8035c8",
   "metadata": {},
   "outputs": [
    {
     "name": "stdout",
     "output_type": "stream",
     "text": [
      "Optimal allocation for RP Minerals:\n",
      "  Dragline 1: ('RP Minerals', 'Dragline 1', 'Overburden', 'Day')\n",
      "  Truck 1: ('RP Minerals', 'Truck 1', 'Coal', 'Day')\n",
      "Optimal allocation for Reddy Coal Mine:\n",
      "  Shovel 1: ('Reddy Coal Mine', 'Shovel 1', 'Overburden', 'Night')\n",
      "  Truck 2: ('Reddy Coal Mine', 'Truck 2', 'Coal', 'Night')\n",
      "Optimal allocation for Vasanth Coal Mine:\n",
      "  Shovel 1: ('Vasanth Coal Mine', 'Shovel 1', 'Overburden', 'Day')\n",
      "  Truck 1: ('Vasanth Coal Mine', 'Truck 1', 'Coal', 'Day')\n"
     ]
    }
   ],
   "source": [
    "import pandas as pd\n",
    "import matplotlib.pyplot as plt\n",
    "# Load CSV data into DataFrame\n",
    "df = pd.read_csv('M12.csv')\n",
    "# Data preprocessing if needed\n",
    "# Define factors\n",
    "factors = ['Mine', 'Equipment', 'Material', 'Shift']\n",
    "# Check if factors are present in the DataFrame\n",
    "if not all(factor in df.columns for factor in factors):\n",
    "    print(\"Some factors are not present in the DataFrame columns.\")\n",
    "else:\n",
    "    # Algorithm development (simplified example)\n",
    "    for mine, group in df.groupby('Mine'):\n",
    "        print(f\"Optimal allocation for {mine}:\")\n",
    "        for equipment, subgroup in group.groupby('Equipment'):\n",
    "            # Example: Allocate resources based on the highest average actual throughput\n",
    "            allocation = subgroup.groupby(factors)['Actual_TPH'].mean().idxmax()\n",
    "            print(f\"  {equipment}: {allocation}\")\n",
    "            \n"
   ]
  },
  {
   "cell_type": "code",
   "execution_count": null,
   "id": "905faeb6-f5c4-4755-94ed-55b4606647c0",
   "metadata": {},
   "outputs": [],
   "source": []
  }
 ],
 "metadata": {
  "kernelspec": {
   "display_name": "Python 3 (ipykernel)",
   "language": "python",
   "name": "python3"
  },
  "language_info": {
   "codemirror_mode": {
    "name": "ipython",
    "version": 3
   },
   "file_extension": ".py",
   "mimetype": "text/x-python",
   "name": "python",
   "nbconvert_exporter": "python",
   "pygments_lexer": "ipython3",
   "version": "3.12.0"
  }
 },
 "nbformat": 4,
 "nbformat_minor": 5
}
