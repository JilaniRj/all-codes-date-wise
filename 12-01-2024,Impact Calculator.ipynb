{
 "cells": [
  {
   "cell_type": "code",
   "execution_count": null,
   "id": "0a50210e-b2cc-47de-a937-4d3957acf81c",
   "metadata": {},
   "outputs": [],
   "source": [
    "#Impact Calculator"
   ]
  },
  {
   "cell_type": "code",
   "execution_count": 1,
   "id": "f329ad95-d577-428d-84a4-8488d4d1936e",
   "metadata": {},
   "outputs": [
    {
     "name": "stdin",
     "output_type": "stream",
     "text": [
      "Enter annual electricity consumption in kWh:  524\n",
      "Enter annual transportation distance in miles:  12352\n",
      "Enter annual waste generated in kg:  542\n"
     ]
    },
    {
     "name": "stdout",
     "output_type": "stream",
     "text": [
      "Your annual carbon footprint is 2734.20 kgCO2.\n"
     ]
    }
   ],
   "source": [
    "def calculate_carbon_footprint():\n",
    "    # Input values\n",
    "    electricity_consumption = float(input(\"Enter annual electricity consumption in kWh: \"))\n",
    "    transportation_distance = float(input(\"Enter annual transportation distance in miles: \"))\n",
    "    waste_generated = float(input(\"Enter annual waste generated in kg: \"))\n",
    "    # Conversion factors\n",
    "    electricity_emission_factor = 0.4  # Example emission factor for electricity in kgCO2/kWh\n",
    "    transportation_emission_factor = 0.2  # Example emission factor for transportation in kgCO2/mile\n",
    "    waste_emission_factor = 0.1  # Example emission factor for waste in kgCO2/kg\n",
    "    # Calculate carbon footprint\n",
    "    electricity_emission = electricity_consumption * electricity_emission_factor\n",
    "    transportation_emission = transportation_distance * transportation_emission_factor\n",
    "    waste_emission = waste_generated * waste_emission_factor\n",
    "    total_emission = electricity_emission + transportation_emission + waste_emission\n",
    "    print(f\"Your annual carbon footprint is {total_emission:.2f} kgCO2.\")\n",
    "if __name__ == \"__main__\":\n",
    "    calculate_carbon_footprint()"
   ]
  },
  {
   "cell_type": "code",
   "execution_count": null,
   "id": "c7561c16-c5f6-4dac-ab56-5edaf51840bc",
   "metadata": {},
   "outputs": [],
   "source": []
  }
 ],
 "metadata": {
  "kernelspec": {
   "display_name": "Python 3 (ipykernel)",
   "language": "python",
   "name": "python3"
  },
  "language_info": {
   "codemirror_mode": {
    "name": "ipython",
    "version": 3
   },
   "file_extension": ".py",
   "mimetype": "text/x-python",
   "name": "python",
   "nbconvert_exporter": "python",
   "pygments_lexer": "ipython3",
   "version": "3.12.0"
  }
 },
 "nbformat": 4,
 "nbformat_minor": 5
}
