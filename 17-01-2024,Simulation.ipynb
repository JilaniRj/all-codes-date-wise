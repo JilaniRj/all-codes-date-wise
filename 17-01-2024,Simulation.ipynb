{
 "cells": [
  {
   "cell_type": "code",
   "execution_count": null,
   "id": "7bd7d1e5-33dc-4fe1-8b8a-0d0dd97b4bfe",
   "metadata": {},
   "outputs": [],
   "source": [
    "#Simulation Start and End Time"
   ]
  },
  {
   "cell_type": "code",
   "execution_count": 1,
   "id": "3629d8e9-290a-4fcf-b008-21444d91ddc4",
   "metadata": {},
   "outputs": [
    {
     "name": "stdout",
     "output_type": "stream",
     "text": [
      "Simulation starts at: 2023-10-02 08:00:00\n",
      "Simulation ends at: 2023-10-03 08:00:00\n"
     ]
    }
   ],
   "source": [
    "from datetime import datetime, timedelta\n",
    "start_time = datetime(2023, 10, 2, 8, 0, 0)  # Year, Month, Day, Hour, Minute, Second\n",
    "simulation_duration = timedelta(days=1)\n",
    "end_time = start_time + simulation_duration\n",
    "print(f\"Simulation starts at: {start_time}\")\n",
    "print(f\"Simulation ends at: {end_time}\")"
   ]
  },
  {
   "cell_type": "code",
   "execution_count": null,
   "id": "dc5c72a5-bc63-43f7-a97d-b2561183c898",
   "metadata": {},
   "outputs": [],
   "source": [
    "#Simulation Speed"
   ]
  },
  {
   "cell_type": "code",
   "execution_count": 2,
   "id": "ebe2fd59-4152-4756-b453-2081050a87a9",
   "metadata": {},
   "outputs": [
    {
     "name": "stdout",
     "output_type": "stream",
     "text": [
      "Date: 2023-02-13, Production Rate: 628.5 T/day\n",
      "Date: 2023-02-15, Production Rate: 628.5 T/day\n",
      "Date: 2023-02-17, Production Rate: 628.5 T/day\n",
      "Date: 2023-02-19, Production Rate: 628.5 T/day\n",
      "Date: 2023-02-21, Production Rate: 628.5 T/day\n",
      "Date: 2023-02-23, Production Rate: 628.5 T/day\n",
      "Date: 2023-02-25, Production Rate: 628.5 T/day\n",
      "Date: 2023-02-27, Production Rate: 628.5 T/day\n"
     ]
    }
   ],
   "source": [
    "import datetime\n",
    "\n",
    "mine_data = {\n",
    "    'Mine': 'Geoth Minerals',\n",
    "    'Material': 'iron ore',\n",
    "    'TotalOre': 1257,\n",
    "    'AverageGrade': '62% Fe',\n",
    "    'TotalWaste': 201,\n",
    "    'StrippingRatio': 0.16,\n",
    "}\n",
    "\n",
    "equipment_data = {\n",
    "    'Equipment': 'Komatsu Dump Truck',\n",
    "    'Type': 'Truck',\n",
    "    'Utilization': '58%',\n",
    "    'FuelConsumed': '160 gal diesel',\n",
    "    'DistanceTravelled': '560 km',\n",
    "    'MaterialMoved': '1250 T',\n",
    "}\n",
    "\n",
    "# Define simulation parameters\n",
    "simulation_start_date = datetime.datetime(2023, 2, 13)\n",
    "simulation_end_date = datetime.datetime(2023, 2, 28)\n",
    "time_interval = datetime.timedelta(days=2)\n",
    "\n",
    "# Simulation function\n",
    "def simulate_production_rates(start_date, end_date, time_interval, mine_data, equipment_data):\n",
    "    current_date = start_date\n",
    "    while current_date <= end_date:\n",
    "        production_rate = mine_data['TotalOre'] / time_interval.days  \n",
    "\n",
    "        print(f\"Date: {current_date.strftime('%Y-%m-%d')}, Production Rate: {production_rate} T/day\")\n",
    "\n",
    "        current_date += time_interval\n",
    "\n",
    "# Run the simulation\n",
    "simulate_production_rates(simulation_start_date, simulation_end_date, time_interval, mine_data, equipment_data)\n"
   ]
  },
  {
   "cell_type": "code",
   "execution_count": null,
   "id": "dd3031d1-82c9-4e6a-9206-0531e0fe7947",
   "metadata": {},
   "outputs": [],
   "source": []
  }
 ],
 "metadata": {
  "kernelspec": {
   "display_name": "Python 3 (ipykernel)",
   "language": "python",
   "name": "python3"
  },
  "language_info": {
   "codemirror_mode": {
    "name": "ipython",
    "version": 3
   },
   "file_extension": ".py",
   "mimetype": "text/x-python",
   "name": "python",
   "nbconvert_exporter": "python",
   "pygments_lexer": "ipython3",
   "version": "3.12.0"
  }
 },
 "nbformat": 4,
 "nbformat_minor": 5
}
